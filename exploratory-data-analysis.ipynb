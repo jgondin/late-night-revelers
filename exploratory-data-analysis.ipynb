{
 "cells": [
  {
   "cell_type": "markdown",
   "metadata": {},
   "source": [
    "#  Late Night Revelers\n",
    "\n",
    "C/A,UNIT,SCP,STATION,LINENAME,DIVISION,DATE,TIME,DESC,ENTRIES,EXITS\n",
    "\n",
    "\n",
    "|Code      | Description                                                                                  |\n",
    "|:-------- |:----------------------------------------------------------------------------------------------- | \n",
    "| C/A      | Control Area (A002)                                                                          | \n",
    "| UNIT     | Remote Unit for a station (R051)                                                             | \n",
    "| SCP      | Subunit Channel Position represents an specific address for a device (02-00-00)              | \n",
    "| STATION  | Represents the station name the device is located at                                         | \n",
    "| LINENAME | Represents all train lines that can be boarded at this station                               | \n",
    "|          |   Normally lines are represented by one character.  LINENAME 456NQR repersents train server for | \n",
    "|          |   4, 5, 6, N, Q, and R trains.                                                                  | \n",
    "| DIVISION | Represents the Line originally the station belonged to BMT, IRT, or IND                      | \n",
    "| DATE     | Represents the date (MM-DD-YY)                                                               |   \n",
    "| TIME     | Represents the time (hh:mm:ss) for a scheduled audit event                                   | \n",
    "| DESc     | Represents the \"REGULAR\" scheduled audit event (Normally occurs every 4 hours)                | \n",
    "|          |   1. Audits may occur more than 4 hours due to planning, or troubleshooting activities.         | \n",
    "|          |   2. Additionally, there may be a \"RECOVR AUD\" entry: This refers to a missed audit that was recovered. |\n",
    "|ENTRIES   | The cumulative entry register value for a device|\n",
    "|EXIST     | The cumulative exit register value for a device|\n"
   ]
  },
  {
   "cell_type": "code",
   "execution_count": 32,
   "metadata": {
    "collapsed": false
   },
   "outputs": [],
   "source": [
    "import pandas as pd\n",
    "import numpy as np\n",
    "import datetime as dt\n",
    "import matplotlib.pyplot as plt\n",
    "\n",
    "# enables inline plots, without it, plots don't show up in the notebook\n",
    "%matplotlib inline"
   ]
  },
  {
   "cell_type": "code",
   "execution_count": 33,
   "metadata": {
    "collapsed": false
   },
   "outputs": [
    {
     "name": "stdout",
     "output_type": "stream",
     "text": [
      "<class 'pandas.core.frame.DataFrame'>\n",
      "RangeIndex: 2533425 entries, 0 to 2533424\n",
      "Data columns (total 12 columns):\n",
      "C/A         object\n",
      "UNIT        object\n",
      "SCP         object\n",
      "STATION     object\n",
      "LINENAME    object\n",
      "DIVISION    object\n",
      "DATE        object\n",
      "TIME        object\n",
      "DESC        object\n",
      "ENTRIES     int64\n",
      "EXITS       int64\n",
      "Datetime    datetime64[ns]\n",
      "dtypes: datetime64[ns](1), int64(2), object(9)\n",
      "memory usage: 231.9+ MB\n"
     ]
    }
   ],
   "source": [
    "data = pd.read_csv('../data/mta/turnstile.csv', parse_dates=['Datetime'])\n",
    "data.info()"
   ]
  },
  {
   "cell_type": "code",
   "execution_count": 34,
   "metadata": {
    "collapsed": false
   },
   "outputs": [
    {
     "data": {
      "text/html": [
       "<div>\n",
       "<table border=\"1\" class=\"dataframe\">\n",
       "  <thead>\n",
       "    <tr style=\"text-align: right;\">\n",
       "      <th></th>\n",
       "      <th>C/A</th>\n",
       "      <th>UNIT</th>\n",
       "      <th>SCP</th>\n",
       "      <th>STATION</th>\n",
       "      <th>LINENAME</th>\n",
       "      <th>DIVISION</th>\n",
       "      <th>DATE</th>\n",
       "      <th>TIME</th>\n",
       "      <th>DESC</th>\n",
       "      <th>ENTRIES</th>\n",
       "      <th>EXITS</th>\n",
       "      <th>Datetime</th>\n",
       "    </tr>\n",
       "  </thead>\n",
       "  <tbody>\n",
       "    <tr>\n",
       "      <th>0</th>\n",
       "      <td>A002</td>\n",
       "      <td>R051</td>\n",
       "      <td>02-00-00</td>\n",
       "      <td>59 ST</td>\n",
       "      <td>NQR456</td>\n",
       "      <td>BMT</td>\n",
       "      <td>03/12/2016</td>\n",
       "      <td>03:00:00</td>\n",
       "      <td>REGULAR</td>\n",
       "      <td>5583673</td>\n",
       "      <td>1884949</td>\n",
       "      <td>2016-03-12 03:00:00</td>\n",
       "    </tr>\n",
       "    <tr>\n",
       "      <th>1</th>\n",
       "      <td>A002</td>\n",
       "      <td>R051</td>\n",
       "      <td>02-00-00</td>\n",
       "      <td>59 ST</td>\n",
       "      <td>NQR456</td>\n",
       "      <td>BMT</td>\n",
       "      <td>03/12/2016</td>\n",
       "      <td>07:00:00</td>\n",
       "      <td>REGULAR</td>\n",
       "      <td>5583689</td>\n",
       "      <td>1884968</td>\n",
       "      <td>2016-03-12 07:00:00</td>\n",
       "    </tr>\n",
       "    <tr>\n",
       "      <th>2</th>\n",
       "      <td>A002</td>\n",
       "      <td>R051</td>\n",
       "      <td>02-00-00</td>\n",
       "      <td>59 ST</td>\n",
       "      <td>NQR456</td>\n",
       "      <td>BMT</td>\n",
       "      <td>03/12/2016</td>\n",
       "      <td>11:00:00</td>\n",
       "      <td>REGULAR</td>\n",
       "      <td>5583785</td>\n",
       "      <td>1885067</td>\n",
       "      <td>2016-03-12 11:00:00</td>\n",
       "    </tr>\n",
       "    <tr>\n",
       "      <th>3</th>\n",
       "      <td>A002</td>\n",
       "      <td>R051</td>\n",
       "      <td>02-00-00</td>\n",
       "      <td>59 ST</td>\n",
       "      <td>NQR456</td>\n",
       "      <td>BMT</td>\n",
       "      <td>03/12/2016</td>\n",
       "      <td>15:00:00</td>\n",
       "      <td>REGULAR</td>\n",
       "      <td>5584037</td>\n",
       "      <td>1885157</td>\n",
       "      <td>2016-03-12 15:00:00</td>\n",
       "    </tr>\n",
       "    <tr>\n",
       "      <th>4</th>\n",
       "      <td>A002</td>\n",
       "      <td>R051</td>\n",
       "      <td>02-00-00</td>\n",
       "      <td>59 ST</td>\n",
       "      <td>NQR456</td>\n",
       "      <td>BMT</td>\n",
       "      <td>03/12/2016</td>\n",
       "      <td>19:00:00</td>\n",
       "      <td>REGULAR</td>\n",
       "      <td>5584482</td>\n",
       "      <td>1885250</td>\n",
       "      <td>2016-03-12 19:00:00</td>\n",
       "    </tr>\n",
       "    <tr>\n",
       "      <th>5</th>\n",
       "      <td>A002</td>\n",
       "      <td>R051</td>\n",
       "      <td>02-00-00</td>\n",
       "      <td>59 ST</td>\n",
       "      <td>NQR456</td>\n",
       "      <td>BMT</td>\n",
       "      <td>03/12/2016</td>\n",
       "      <td>23:00:00</td>\n",
       "      <td>REGULAR</td>\n",
       "      <td>5584768</td>\n",
       "      <td>1885284</td>\n",
       "      <td>2016-03-12 23:00:00</td>\n",
       "    </tr>\n",
       "    <tr>\n",
       "      <th>6</th>\n",
       "      <td>A002</td>\n",
       "      <td>R051</td>\n",
       "      <td>02-00-00</td>\n",
       "      <td>59 ST</td>\n",
       "      <td>NQR456</td>\n",
       "      <td>BMT</td>\n",
       "      <td>03/13/2016</td>\n",
       "      <td>04:00:00</td>\n",
       "      <td>REGULAR</td>\n",
       "      <td>5584835</td>\n",
       "      <td>1885305</td>\n",
       "      <td>2016-03-13 04:00:00</td>\n",
       "    </tr>\n",
       "    <tr>\n",
       "      <th>7</th>\n",
       "      <td>A002</td>\n",
       "      <td>R051</td>\n",
       "      <td>02-00-00</td>\n",
       "      <td>59 ST</td>\n",
       "      <td>NQR456</td>\n",
       "      <td>BMT</td>\n",
       "      <td>03/13/2016</td>\n",
       "      <td>08:00:00</td>\n",
       "      <td>REGULAR</td>\n",
       "      <td>5584851</td>\n",
       "      <td>1885325</td>\n",
       "      <td>2016-03-13 08:00:00</td>\n",
       "    </tr>\n",
       "    <tr>\n",
       "      <th>8</th>\n",
       "      <td>A002</td>\n",
       "      <td>R051</td>\n",
       "      <td>02-00-00</td>\n",
       "      <td>59 ST</td>\n",
       "      <td>NQR456</td>\n",
       "      <td>BMT</td>\n",
       "      <td>03/13/2016</td>\n",
       "      <td>12:00:00</td>\n",
       "      <td>REGULAR</td>\n",
       "      <td>5584909</td>\n",
       "      <td>1885403</td>\n",
       "      <td>2016-03-13 12:00:00</td>\n",
       "    </tr>\n",
       "    <tr>\n",
       "      <th>9</th>\n",
       "      <td>A002</td>\n",
       "      <td>R051</td>\n",
       "      <td>02-00-00</td>\n",
       "      <td>59 ST</td>\n",
       "      <td>NQR456</td>\n",
       "      <td>BMT</td>\n",
       "      <td>03/13/2016</td>\n",
       "      <td>16:00:00</td>\n",
       "      <td>REGULAR</td>\n",
       "      <td>5585119</td>\n",
       "      <td>1885458</td>\n",
       "      <td>2016-03-13 16:00:00</td>\n",
       "    </tr>\n",
       "  </tbody>\n",
       "</table>\n",
       "</div>"
      ],
      "text/plain": [
       "    C/A  UNIT       SCP STATION LINENAME DIVISION        DATE      TIME  \\\n",
       "0  A002  R051  02-00-00   59 ST   NQR456      BMT  03/12/2016  03:00:00   \n",
       "1  A002  R051  02-00-00   59 ST   NQR456      BMT  03/12/2016  07:00:00   \n",
       "2  A002  R051  02-00-00   59 ST   NQR456      BMT  03/12/2016  11:00:00   \n",
       "3  A002  R051  02-00-00   59 ST   NQR456      BMT  03/12/2016  15:00:00   \n",
       "4  A002  R051  02-00-00   59 ST   NQR456      BMT  03/12/2016  19:00:00   \n",
       "5  A002  R051  02-00-00   59 ST   NQR456      BMT  03/12/2016  23:00:00   \n",
       "6  A002  R051  02-00-00   59 ST   NQR456      BMT  03/13/2016  04:00:00   \n",
       "7  A002  R051  02-00-00   59 ST   NQR456      BMT  03/13/2016  08:00:00   \n",
       "8  A002  R051  02-00-00   59 ST   NQR456      BMT  03/13/2016  12:00:00   \n",
       "9  A002  R051  02-00-00   59 ST   NQR456      BMT  03/13/2016  16:00:00   \n",
       "\n",
       "      DESC  ENTRIES    EXITS            Datetime  \n",
       "0  REGULAR  5583673  1884949 2016-03-12 03:00:00  \n",
       "1  REGULAR  5583689  1884968 2016-03-12 07:00:00  \n",
       "2  REGULAR  5583785  1885067 2016-03-12 11:00:00  \n",
       "3  REGULAR  5584037  1885157 2016-03-12 15:00:00  \n",
       "4  REGULAR  5584482  1885250 2016-03-12 19:00:00  \n",
       "5  REGULAR  5584768  1885284 2016-03-12 23:00:00  \n",
       "6  REGULAR  5584835  1885305 2016-03-13 04:00:00  \n",
       "7  REGULAR  5584851  1885325 2016-03-13 08:00:00  \n",
       "8  REGULAR  5584909  1885403 2016-03-13 12:00:00  \n",
       "9  REGULAR  5585119  1885458 2016-03-13 16:00:00  "
      ]
     },
     "execution_count": 34,
     "metadata": {},
     "output_type": "execute_result"
    }
   ],
   "source": [
    "data.head(10)"
   ]
  },
  {
   "cell_type": "markdown",
   "metadata": {},
   "source": [
    "# Extraction Deltas\n",
    "\n",
    "The turnstiles have cumulative results, which is reset time-to-time. In order to obtain the number of passenger at the station in a specific interval, we must calculate the variance."
   ]
  },
  {
   "cell_type": "code",
   "execution_count": 35,
   "metadata": {
    "collapsed": false
   },
   "outputs": [
    {
     "name": "stdout",
     "output_type": "stream",
     "text": [
      "(2533407, 4)\n"
     ]
    },
    {
     "data": {
      "text/html": [
       "<div>\n",
       "<table border=\"1\" class=\"dataframe\">\n",
       "  <thead>\n",
       "    <tr style=\"text-align: right;\">\n",
       "      <th></th>\n",
       "      <th></th>\n",
       "      <th></th>\n",
       "      <th></th>\n",
       "      <th></th>\n",
       "      <th>ENTRIES</th>\n",
       "      <th>EXITS</th>\n",
       "      <th>Delta_ENTRIES</th>\n",
       "      <th>Delta_EXITS</th>\n",
       "    </tr>\n",
       "    <tr>\n",
       "      <th>C/A</th>\n",
       "      <th>UNIT</th>\n",
       "      <th>STATION</th>\n",
       "      <th>SCP</th>\n",
       "      <th>Datetime</th>\n",
       "      <th></th>\n",
       "      <th></th>\n",
       "      <th></th>\n",
       "      <th></th>\n",
       "    </tr>\n",
       "  </thead>\n",
       "  <tbody>\n",
       "    <tr>\n",
       "      <th>R501</th>\n",
       "      <th>R054</th>\n",
       "      <th>5 AVE</th>\n",
       "      <th>00-00-06</th>\n",
       "      <th>2016-02-08 07:00:00</th>\n",
       "      <td>1377137</td>\n",
       "      <td>623489</td>\n",
       "      <td>NaN</td>\n",
       "      <td>NaN</td>\n",
       "    </tr>\n",
       "    <tr>\n",
       "      <th>A049</th>\n",
       "      <th>R088</th>\n",
       "      <th>CORTLANDT ST</th>\n",
       "      <th>02-05-01</th>\n",
       "      <th>2015-12-26 12:00:00</th>\n",
       "      <td>638058496</td>\n",
       "      <td>5177432</td>\n",
       "      <td>NaN</td>\n",
       "      <td>NaN</td>\n",
       "    </tr>\n",
       "    <tr>\n",
       "      <th>G001</th>\n",
       "      <th>R151</th>\n",
       "      <th>CONEY IS-STILLW</th>\n",
       "      <th>00-00-00</th>\n",
       "      <th>2016-03-24 05:00:00</th>\n",
       "      <td>2231600</td>\n",
       "      <td>4969613</td>\n",
       "      <td>NaN</td>\n",
       "      <td>NaN</td>\n",
       "    </tr>\n",
       "    <tr>\n",
       "      <th>R161B</th>\n",
       "      <th>R452</th>\n",
       "      <th>72 ST</th>\n",
       "      <th>00-03-03</th>\n",
       "      <th>2016-02-08 16:00:00</th>\n",
       "      <td>14459318</td>\n",
       "      <td>4762382</td>\n",
       "      <td>NaN</td>\n",
       "      <td>NaN</td>\n",
       "    </tr>\n",
       "    <tr>\n",
       "      <th>R119</th>\n",
       "      <th>R320</th>\n",
       "      <th>CANAL ST</th>\n",
       "      <th>00-00-00</th>\n",
       "      <th>2016-01-14 08:00:00</th>\n",
       "      <td>518129</td>\n",
       "      <td>209715</td>\n",
       "      <td>NaN</td>\n",
       "      <td>NaN</td>\n",
       "    </tr>\n",
       "    <tr>\n",
       "      <th>R645</th>\n",
       "      <th>R110</th>\n",
       "      <th>FLATBUSH AV-B.C</th>\n",
       "      <th>00-06-01</th>\n",
       "      <th>2016-02-24 07:56:10</th>\n",
       "      <td>1519898</td>\n",
       "      <td>418709</td>\n",
       "      <td>NaN</td>\n",
       "      <td>NaN</td>\n",
       "    </tr>\n",
       "    <tr>\n",
       "      <th>N338</th>\n",
       "      <th>R128</th>\n",
       "      <th>SUTPHIN BLVD</th>\n",
       "      <th>01-06-01</th>\n",
       "      <th>2016-03-11 00:00:00</th>\n",
       "      <td>1941930</td>\n",
       "      <td>1593194</td>\n",
       "      <td>NaN</td>\n",
       "      <td>NaN</td>\n",
       "    </tr>\n",
       "    <tr>\n",
       "      <th>PTH03</th>\n",
       "      <th>R552</th>\n",
       "      <th>JOURNAL SQUARE</th>\n",
       "      <th>00-01-04</th>\n",
       "      <th>2016-03-14 05:18:27</th>\n",
       "      <td>121478</td>\n",
       "      <td>82771</td>\n",
       "      <td>NaN</td>\n",
       "      <td>NaN</td>\n",
       "    </tr>\n",
       "    <tr>\n",
       "      <th>R403</th>\n",
       "      <th>R446</th>\n",
       "      <th>BROOK AV</th>\n",
       "      <th>01-00-00</th>\n",
       "      <th>2016-01-08 20:00:00</th>\n",
       "      <td>2508675</td>\n",
       "      <td>8003603</td>\n",
       "      <td>NaN</td>\n",
       "      <td>NaN</td>\n",
       "    </tr>\n",
       "    <tr>\n",
       "      <th>PTH19</th>\n",
       "      <th>R549</th>\n",
       "      <th>NEWARK C</th>\n",
       "      <th>02-00-02</th>\n",
       "      <th>2016-01-06 09:17:20</th>\n",
       "      <td>194561</td>\n",
       "      <td>9976</td>\n",
       "      <td>NaN</td>\n",
       "      <td>NaN</td>\n",
       "    </tr>\n",
       "  </tbody>\n",
       "</table>\n",
       "</div>"
      ],
      "text/plain": [
       "                                                           ENTRIES    EXITS  \\\n",
       "C/A   UNIT STATION         SCP      Datetime                                  \n",
       "R501  R054 5 AVE           00-00-06 2016-02-08 07:00:00    1377137   623489   \n",
       "A049  R088 CORTLANDT ST    02-05-01 2015-12-26 12:00:00  638058496  5177432   \n",
       "G001  R151 CONEY IS-STILLW 00-00-00 2016-03-24 05:00:00    2231600  4969613   \n",
       "R161B R452 72 ST           00-03-03 2016-02-08 16:00:00   14459318  4762382   \n",
       "R119  R320 CANAL ST        00-00-00 2016-01-14 08:00:00     518129   209715   \n",
       "R645  R110 FLATBUSH AV-B.C 00-06-01 2016-02-24 07:56:10    1519898   418709   \n",
       "N338  R128 SUTPHIN BLVD    01-06-01 2016-03-11 00:00:00    1941930  1593194   \n",
       "PTH03 R552 JOURNAL SQUARE  00-01-04 2016-03-14 05:18:27     121478    82771   \n",
       "R403  R446 BROOK AV        01-00-00 2016-01-08 20:00:00    2508675  8003603   \n",
       "PTH19 R549 NEWARK C        02-00-02 2016-01-06 09:17:20     194561     9976   \n",
       "\n",
       "                                                         Delta_ENTRIES  \\\n",
       "C/A   UNIT STATION         SCP      Datetime                             \n",
       "R501  R054 5 AVE           00-00-06 2016-02-08 07:00:00            NaN   \n",
       "A049  R088 CORTLANDT ST    02-05-01 2015-12-26 12:00:00            NaN   \n",
       "G001  R151 CONEY IS-STILLW 00-00-00 2016-03-24 05:00:00            NaN   \n",
       "R161B R452 72 ST           00-03-03 2016-02-08 16:00:00            NaN   \n",
       "R119  R320 CANAL ST        00-00-00 2016-01-14 08:00:00            NaN   \n",
       "R645  R110 FLATBUSH AV-B.C 00-06-01 2016-02-24 07:56:10            NaN   \n",
       "N338  R128 SUTPHIN BLVD    01-06-01 2016-03-11 00:00:00            NaN   \n",
       "PTH03 R552 JOURNAL SQUARE  00-01-04 2016-03-14 05:18:27            NaN   \n",
       "R403  R446 BROOK AV        01-00-00 2016-01-08 20:00:00            NaN   \n",
       "PTH19 R549 NEWARK C        02-00-02 2016-01-06 09:17:20            NaN   \n",
       "\n",
       "                                                         Delta_EXITS  \n",
       "C/A   UNIT STATION         SCP      Datetime                          \n",
       "R501  R054 5 AVE           00-00-06 2016-02-08 07:00:00          NaN  \n",
       "A049  R088 CORTLANDT ST    02-05-01 2015-12-26 12:00:00          NaN  \n",
       "G001  R151 CONEY IS-STILLW 00-00-00 2016-03-24 05:00:00          NaN  \n",
       "R161B R452 72 ST           00-03-03 2016-02-08 16:00:00          NaN  \n",
       "R119  R320 CANAL ST        00-00-00 2016-01-14 08:00:00          NaN  \n",
       "R645  R110 FLATBUSH AV-B.C 00-06-01 2016-02-24 07:56:10          NaN  \n",
       "N338  R128 SUTPHIN BLVD    01-06-01 2016-03-11 00:00:00          NaN  \n",
       "PTH03 R552 JOURNAL SQUARE  00-01-04 2016-03-14 05:18:27          NaN  \n",
       "R403  R446 BROOK AV        01-00-00 2016-01-08 20:00:00          NaN  \n",
       "PTH19 R549 NEWARK C        02-00-02 2016-01-06 09:17:20          NaN  "
      ]
     },
     "execution_count": 35,
     "metadata": {},
     "output_type": "execute_result"
    }
   ],
   "source": [
    "tmp = data.sort_values(['C/A', 'UNIT', 'STATION','SCP', 'Datetime'],\n",
    "                       ascending =True, kind=' mergesort').copy()\n",
    "tmp['Delta_ENTRIES'] = np.nan\n",
    "tmp['Delta_EXITS'] = np.nan\n",
    "tmp = tmp.groupby(['C/A', 'UNIT', 'STATION','SCP','Datetime']).sum()\n",
    "\n",
    "print(tmp.shape)\n",
    "tmp.sample(10)"
   ]
  },
  {
   "cell_type": "code",
   "execution_count": null,
   "metadata": {
    "collapsed": false
   },
   "outputs": [
    {
     "data": {
      "text/plain": [
       "[['A002', 'R051', '59 ST', '02-00-00'],\n",
       " ['A002', 'R051', '59 ST', '02-00-01'],\n",
       " ['A002', 'R051', '59 ST', '02-03-00'],\n",
       " ['A002', 'R051', '59 ST', '02-03-01'],\n",
       " ['A002', 'R051', '59 ST', '02-03-02']]"
      ]
     },
     "execution_count": 36,
     "metadata": {},
     "output_type": "execute_result"
    }
   ],
   "source": [
    "# Create index to calculate Variation\n",
    "key_index = tmp.reset_index().ix[:, ['C/A', 'UNIT', 'STATION','SCP'] ].drop_duplicates().copy()\n",
    "key_index.sort_values(['C/A', 'UNIT', 'STATION','SCP'], ascending =True, kind=' mergesort')\n",
    "key_index = [list(key_index.iloc[i,:]) for i in range(key_index.shape[0])]\n",
    "\n",
    "key_index[:5]"
   ]
  },
  {
   "cell_type": "code",
   "execution_count": null,
   "metadata": {
    "collapsed": false
   },
   "outputs": [],
   "source": [
    "# Calculate Deltas.\n",
    "# warning: This may take some time.\n",
    "idx = pd.IndexSlice\n",
    "for  _, (i0, i1, i2, i3) in  enumerate(key_index):\n",
    "    px = idx[i0, i1, i2, i3,:]\n",
    "    \n",
    "    delta = tmp.loc[px, [idx['ENTRIES']]].shift(-1) - tmp.loc[px, [idx['ENTRIES']]]\n",
    "    tmp.loc[px, [idx['Delta_ENTRIES']]] = delta['ENTRIES'].values\n",
    "    \n",
    "    delta = tmp.loc[px, [idx['EXITS']]].shift(-1) - tmp.loc[px, [idx['EXITS']]]\n",
    "    tmp.loc[px, [idx['Delta_EXITS']]] = delta['EXITS'].values\n"
   ]
  },
  {
   "cell_type": "code",
   "execution_count": null,
   "metadata": {
    "collapsed": false
   },
   "outputs": [],
   "source": [
    "tmp.sample(10)"
   ]
  },
  {
   "cell_type": "markdown",
   "metadata": {},
   "source": [
    "# Identify Anomalies\n",
    "\n",
    "Due to machine failure and possible error during data storage, some results are negative or too high.\n",
    "To ensure the \"delta values\" are valid, we assign unlike values as ```NaN``` values."
   ]
  },
  {
   "cell_type": "code",
   "execution_count": null,
   "metadata": {
    "collapsed": false
   },
   "outputs": [],
   "source": [
    "def plot_hist(x,name):\n",
    "    \n",
    "    plt.figure(1,figsize=(28,10))\n",
    "    mask = x > 0 & (~np.isnan(x))\n",
    "    plt.subplot(131)\n",
    "    plt.hist(x[mask], bins= 200)\n",
    "    plt.title(\"Histogram of Delta \" + name);\n",
    "    plt.xlabel('Number of Passengers')\n",
    "    plt.ylabel('Frequency')\n",
    "\n",
    "    mask = x >= 0 & (~np.isnan(x))\n",
    "    plt.subplot(132)\n",
    "    plt.hist(np.log(x[mask] + 1), bins= 200)\n",
    "    plt.title(\"Histogram of Log Delta \" + name);\n",
    "    plt.xlabel('Number of Passengers')\n",
    "    \n",
    "    mask = x > 0 & (~np.isnan(x))\n",
    "    plt.subplot(133)\n",
    "    plt.hist(np.log(x[mask] + 1), bins= 200)\n",
    "    plt.title(\"Histogram of Log Delta \" + name + \" (no zeros)\");\n",
    "    plt.xlabel('Number of Passengers')\n",
    "    \n",
    "    print('Max: %d' % np.nanmax(x))\n",
    "    print('Min: %d' % np.nanmin(x))\n",
    "    "
   ]
  },
  {
   "cell_type": "code",
   "execution_count": null,
   "metadata": {
    "collapsed": false
   },
   "outputs": [],
   "source": [
    "plot_hist(x=tmp.Delta_ENTRIES.dropna().copy().values,name='Entries')"
   ]
  },
  {
   "cell_type": "code",
   "execution_count": null,
   "metadata": {
    "collapsed": false
   },
   "outputs": [],
   "source": [
    "plot_hist(x=tmp.Delta_EXITS.dropna().copy().values, name='Exits')"
   ]
  },
  {
   "cell_type": "markdown",
   "metadata": {},
   "source": [
    "It clear that the distribution is very skewed, even after the log transformation.\n",
    "Also, there are a high number of zeros. It may sound odd, but it is reasonable because many stations stay closed or have very low use at specific time frames.\n",
    "\n",
    "In order to avoid removing too many values, we remove the anomalies at the turnstile then aggregate the results by station."
   ]
  },
  {
   "cell_type": "code",
   "execution_count": null,
   "metadata": {
    "collapsed": true
   },
   "outputs": [],
   "source": [
    "def remove_anomalies(X):\n",
    "    \"\"\"This function removes unusual values\"\"\"\n",
    "    \n",
    "    #Set negative values to NaN\n",
    "    mask = X < 0\n",
    "    X[mask] = np.nan\n",
    "    \n",
    "    mask = X <= 0 | np.isnan(X)\n",
    "    if len(X[mask]) == 0:\n",
    "        return(X)\n",
    "    \n",
    "    #Use log to have it closer to a normal distribution\n",
    "    X_log = np.log(X.copy() + 1)\n",
    "    \n",
    "    x_bar = np.nanmean(X_log)\n",
    "    sigma = np.nanstd(X_log)\n",
    "    \n",
    "    # Set extreme values as NaN\n",
    "    mask = X_log > (x_bar + 3*sigma)\n",
    "    \n",
    "    X[mask] = np.nan\n",
    "    \n",
    "    return(X)"
   ]
  },
  {
   "cell_type": "code",
   "execution_count": null,
   "metadata": {
    "collapsed": false
   },
   "outputs": [],
   "source": [
    "# Remove anomalies at turnstile level.\n",
    "tmp.Delta_ENTRIES  = remove_anomalies(tmp.Delta_ENTRIES.values)\n",
    "tmp.Delta_EXITS  = remove_anomalies(tmp.Delta_EXITS.values)\n",
    "\n",
    "# idx = pd.IndexSlice\n",
    "# for  _, (i0, i1, i2, i3) in  enumerate(key_index):\n",
    "    \n",
    "#     px = idx[i0, i1, i2, i3,:]\n",
    "#     #print(tmp.Delta_ENTRIES.loc[px].sample(10))\n",
    "    \n",
    "#     tmp.loc[px, [idx['Delta_ENTRIES']]]  = remove_anomalies(tmp.Delta_ENTRIES.loc[px].values)\n",
    "#     tmp.loc[px, [idx['Delta_EXITS']]]  = remove_anomalies(tmp.Delta_EXITS.loc[px].values)"
   ]
  },
  {
   "cell_type": "code",
   "execution_count": null,
   "metadata": {
    "collapsed": false
   },
   "outputs": [],
   "source": [
    "plot_hist(x=tmp.Delta_ENTRIES.dropna().copy().values,name='Entries')"
   ]
  },
  {
   "cell_type": "code",
   "execution_count": null,
   "metadata": {
    "collapsed": false
   },
   "outputs": [],
   "source": [
    "plot_hist(x=tmp.Delta_EXITS.dropna().copy().values,name='Exits')"
   ]
  },
  {
   "cell_type": "markdown",
   "metadata": {},
   "source": [
    "# Aggregate Delta by Station\n",
    "\n",
    "After calculating Deltas and removing anomalies, it is time to aggregate results by station.\n",
    "First, we round the ```datetime``` to the nearest hour."
   ]
  },
  {
   "cell_type": "code",
   "execution_count": null,
   "metadata": {
    "collapsed": true
   },
   "outputs": [],
   "source": [
    "def round_datetime(x):\n",
    "    second = x.second\n",
    "    minute = x.minute\n",
    "    hour = x.hour\n",
    "    date= x.date()\n",
    "    \n",
    "    #round second\n",
    "    if second < 30:\n",
    "        second = 0\n",
    "    else:\n",
    "        second = 0\n",
    "        minute += 1\n",
    "        \n",
    "    #round minute   \n",
    "    if minute < 30:\n",
    "        minute = 0\n",
    "    else:\n",
    "        minute = 0\n",
    "        hour += 1\n",
    "    \n",
    "    #adjust day shift    \n",
    "    if hour > 23:\n",
    "        hour = 0\n",
    "        date += dt.timedelta(days=1)\n",
    "        \n",
    "    return(dt.datetime(date.year, date.month, date.day, hour, minute, second))"
   ]
  },
  {
   "cell_type": "code",
   "execution_count": null,
   "metadata": {
    "collapsed": false
   },
   "outputs": [],
   "source": [
    "# Round time interval to the nearest hour\n",
    "tmp.reset_index(inplace=True)\n",
    "\n",
    "print('Total number of intervals before adjust: %12d' % tmp.Datetime.nunique())\n",
    "tmp.Datetime = tmp.Datetime.apply(round_datetime)\n",
    "print('Total number of intervals after adjust:  %12d' % tmp.Datetime.nunique())"
   ]
  },
  {
   "cell_type": "code",
   "execution_count": null,
   "metadata": {
    "collapsed": false
   },
   "outputs": [],
   "source": [
    "tmp.drop(['ENTRIES', 'EXITS'], axis=1, inplace=True) \n",
    "tmp.sample(10)"
   ]
  },
  {
   "cell_type": "code",
   "execution_count": null,
   "metadata": {
    "collapsed": false
   },
   "outputs": [],
   "source": [
    "total = tmp.shape[0]\n",
    "mask_exits  = np.isnan(tmp.Delta_EXITS.values)\n",
    "print('%4.2f%% of the data have Delta Exits missing' % \n",
    "      (np.sum(mask_exits) / total *100))\n",
    "\n",
    "mask_entries  = np.isnan(tmp.Delta_ENTRIES.values)\n",
    "print('%4.2f%% of the data have Delta Entries missing' % \n",
    "      (np.sum(mask_entries) / total *100))\n",
    "\n",
    "mask_all = mask_exits | mask_entries\n",
    "print('%4.2f%% of the data have Delta Entries OR Delta Exits  missing' % \n",
    "      (np.sum(mask_all) / total *100))"
   ]
  },
  {
   "cell_type": "code",
   "execution_count": null,
   "metadata": {
    "collapsed": false
   },
   "outputs": [],
   "source": [
    "# Remove missing deltas\n",
    "tmp = tmp.ix[~mask_all,:]\n",
    "tmp.info()"
   ]
  },
  {
   "cell_type": "code",
   "execution_count": null,
   "metadata": {
    "collapsed": false
   },
   "outputs": [],
   "source": [
    "tmp['Delta_total'] = tmp.loc[:,'Delta_ENTRIES'] + tmp.loc[:,'Delta_EXITS'] "
   ]
  },
  {
   "cell_type": "code",
   "execution_count": null,
   "metadata": {
    "collapsed": false
   },
   "outputs": [],
   "source": [
    "tmp = tmp.groupby(['STATION', 'Datetime'], as_index=False).sum()\n",
    "tmp = tmp.sort_values(['STATION', 'Datetime'], ascending=[True, True])"
   ]
  },
  {
   "cell_type": "code",
   "execution_count": null,
   "metadata": {
    "collapsed": false
   },
   "outputs": [],
   "source": [
    "tmp.sample(10)"
   ]
  },
  {
   "cell_type": "code",
   "execution_count": null,
   "metadata": {
    "collapsed": true
   },
   "outputs": [],
   "source": []
  },
  {
   "cell_type": "code",
   "execution_count": null,
   "metadata": {
    "collapsed": true
   },
   "outputs": [],
   "source": []
  },
  {
   "cell_type": "markdown",
   "metadata": {},
   "source": [
    "# Select Specific Time and Day"
   ]
  },
  {
   "cell_type": "code",
   "execution_count": 23,
   "metadata": {
    "collapsed": false
   },
   "outputs": [],
   "source": [
    "INTERVAL = [dt.datetime(year=2000,month=1, day=1, hour=12, minute=0, second=0),\n",
    "           dt.datetime(year=2000,month=1, day=1, hour=5, minute=0, second=0)]\n",
    "\n",
    "def is_late_night(x):\n",
    "    if x >= INTERVAL[0] or x <= INTERVAL[1]:\n",
    "        return(True)\n",
    "    else:\n",
    "        return(False)\n",
    "\n",
    "DAY_OF_WEEK = ['Monday','Tuesday','Wednesday','Thursday','Friday','Saturday','Sunday', 'Monday']\n",
    "def get_day_of_week(x):\n",
    "    if x.hour >= 22:\n",
    "        return DAY_OF_WEEK[x.weekday() + 1]\n",
    "    else:\n",
    "        return DAY_OF_WEEK[x.weekday()]\n",
    "    \n",
    "def is_weekend(x):\n",
    "    if x.hour >= 22:\n",
    "        if (x.weekday() + 1 < 5) or (x.weekday() + 1) == 7:\n",
    "            return(False)\n",
    "        else:\n",
    "            return(True)\n",
    "    else:\n",
    "        if x.weekday() < 5:\n",
    "            return(False)\n",
    "        else:\n",
    "            return(True)\n",
    "\n",
    "\n",
    "#data['DAYOFWEEK'] = data.DATETIME.apply(whatdayofweek)\n",
    "tmp['Day_of_week'] = tmp.Datetime.apply(get_day_of_week)\n",
    "tmp['Weekend'] = tmp.Datetime.apply(is_weekend)"
   ]
  },
  {
   "cell_type": "code",
   "execution_count": 24,
   "metadata": {
    "collapsed": false
   },
   "outputs": [
    {
     "data": {
      "text/html": [
       "<div>\n",
       "<table border=\"1\" class=\"dataframe\">\n",
       "  <thead>\n",
       "    <tr style=\"text-align: right;\">\n",
       "      <th></th>\n",
       "      <th>STATION</th>\n",
       "      <th>Datetime</th>\n",
       "      <th>Delta_ENTRIES</th>\n",
       "      <th>Delta_EXITS</th>\n",
       "      <th>Delta_total</th>\n",
       "      <th>Day_of_week</th>\n",
       "      <th>Weekend</th>\n",
       "    </tr>\n",
       "  </thead>\n",
       "  <tbody>\n",
       "    <tr>\n",
       "      <th>77731</th>\n",
       "      <td>ASTOR PL</td>\n",
       "      <td>2016-03-18 05:00:00</td>\n",
       "      <td>2369.0</td>\n",
       "      <td>2447.0</td>\n",
       "      <td>4816.0</td>\n",
       "      <td>Friday</td>\n",
       "      <td>False</td>\n",
       "    </tr>\n",
       "    <tr>\n",
       "      <th>114997</th>\n",
       "      <td>CITY / BUS</td>\n",
       "      <td>2016-01-13 08:00:00</td>\n",
       "      <td>3431.0</td>\n",
       "      <td>461.0</td>\n",
       "      <td>3892.0</td>\n",
       "      <td>Wednesday</td>\n",
       "      <td>False</td>\n",
       "    </tr>\n",
       "    <tr>\n",
       "      <th>230811</th>\n",
       "      <td>THIRTY THIRD ST</td>\n",
       "      <td>2016-01-08 06:00:00</td>\n",
       "      <td>451.0</td>\n",
       "      <td>376.0</td>\n",
       "      <td>827.0</td>\n",
       "      <td>Friday</td>\n",
       "      <td>False</td>\n",
       "    </tr>\n",
       "    <tr>\n",
       "      <th>35100</th>\n",
       "      <td>28 ST</td>\n",
       "      <td>2016-01-03 20:00:00</td>\n",
       "      <td>2242.0</td>\n",
       "      <td>1362.0</td>\n",
       "      <td>3604.0</td>\n",
       "      <td>Sunday</td>\n",
       "      <td>True</td>\n",
       "    </tr>\n",
       "    <tr>\n",
       "      <th>164263</th>\n",
       "      <td>JFK JAMAICA CT1</td>\n",
       "      <td>2016-02-10 12:00:00</td>\n",
       "      <td>1838.0</td>\n",
       "      <td>1494.0</td>\n",
       "      <td>3332.0</td>\n",
       "      <td>Wednesday</td>\n",
       "      <td>False</td>\n",
       "    </tr>\n",
       "    <tr>\n",
       "      <th>181642</th>\n",
       "      <td>MONTROSE AV</td>\n",
       "      <td>2016-01-05 23:00:00</td>\n",
       "      <td>189.0</td>\n",
       "      <td>280.0</td>\n",
       "      <td>469.0</td>\n",
       "      <td>Wednesday</td>\n",
       "      <td>False</td>\n",
       "    </tr>\n",
       "    <tr>\n",
       "      <th>232120</th>\n",
       "      <td>THIRTY THIRD ST</td>\n",
       "      <td>2016-03-14 19:00:00</td>\n",
       "      <td>1298.0</td>\n",
       "      <td>220.0</td>\n",
       "      <td>1518.0</td>\n",
       "      <td>Monday</td>\n",
       "      <td>False</td>\n",
       "    </tr>\n",
       "    <tr>\n",
       "      <th>118770</th>\n",
       "      <td>CLINTON-WASH AV</td>\n",
       "      <td>2016-01-23 20:00:00</td>\n",
       "      <td>130.0</td>\n",
       "      <td>27.0</td>\n",
       "      <td>157.0</td>\n",
       "      <td>Saturday</td>\n",
       "      <td>True</td>\n",
       "    </tr>\n",
       "    <tr>\n",
       "      <th>38367</th>\n",
       "      <td>33 ST</td>\n",
       "      <td>2016-01-04 08:00:00</td>\n",
       "      <td>5932.0</td>\n",
       "      <td>9726.0</td>\n",
       "      <td>15658.0</td>\n",
       "      <td>Monday</td>\n",
       "      <td>False</td>\n",
       "    </tr>\n",
       "    <tr>\n",
       "      <th>190257</th>\n",
       "      <td>NEW LOTS AV</td>\n",
       "      <td>2016-03-15 20:00:00</td>\n",
       "      <td>541.0</td>\n",
       "      <td>913.0</td>\n",
       "      <td>1454.0</td>\n",
       "      <td>Tuesday</td>\n",
       "      <td>False</td>\n",
       "    </tr>\n",
       "  </tbody>\n",
       "</table>\n",
       "</div>"
      ],
      "text/plain": [
       "                STATION            Datetime  Delta_ENTRIES  Delta_EXITS  \\\n",
       "77731          ASTOR PL 2016-03-18 05:00:00         2369.0       2447.0   \n",
       "114997       CITY / BUS 2016-01-13 08:00:00         3431.0        461.0   \n",
       "230811  THIRTY THIRD ST 2016-01-08 06:00:00          451.0        376.0   \n",
       "35100             28 ST 2016-01-03 20:00:00         2242.0       1362.0   \n",
       "164263  JFK JAMAICA CT1 2016-02-10 12:00:00         1838.0       1494.0   \n",
       "181642      MONTROSE AV 2016-01-05 23:00:00          189.0        280.0   \n",
       "232120  THIRTY THIRD ST 2016-03-14 19:00:00         1298.0        220.0   \n",
       "118770  CLINTON-WASH AV 2016-01-23 20:00:00          130.0         27.0   \n",
       "38367             33 ST 2016-01-04 08:00:00         5932.0       9726.0   \n",
       "190257      NEW LOTS AV 2016-03-15 20:00:00          541.0        913.0   \n",
       "\n",
       "        Delta_total Day_of_week Weekend  \n",
       "77731        4816.0      Friday   False  \n",
       "114997       3892.0   Wednesday   False  \n",
       "230811        827.0      Friday   False  \n",
       "35100        3604.0      Sunday    True  \n",
       "164263       3332.0   Wednesday   False  \n",
       "181642        469.0   Wednesday   False  \n",
       "232120       1518.0      Monday   False  \n",
       "118770        157.0    Saturday    True  \n",
       "38367       15658.0      Monday   False  \n",
       "190257       1454.0     Tuesday   False  "
      ]
     },
     "execution_count": 24,
     "metadata": {},
     "output_type": "execute_result"
    }
   ],
   "source": [
    "mask = tmp.Datetime.apply(is_late_night)\n",
    "tmp = tmp.ix[mask, :]\n",
    "tmp.sample(10)"
   ]
  },
  {
   "cell_type": "code",
   "execution_count": 31,
   "metadata": {
    "collapsed": false
   },
   "outputs": [
    {
     "data": {
      "text/html": [
       "<div>\n",
       "<table border=\"1\" class=\"dataframe\">\n",
       "  <thead>\n",
       "    <tr style=\"text-align: right;\">\n",
       "      <th></th>\n",
       "      <th>STATION</th>\n",
       "      <th>Delta_total</th>\n",
       "    </tr>\n",
       "  </thead>\n",
       "  <tbody>\n",
       "    <tr>\n",
       "      <th>2</th>\n",
       "      <td>103 ST</td>\n",
       "      <td>3286318.0</td>\n",
       "    </tr>\n",
       "    <tr>\n",
       "      <th>0</th>\n",
       "      <td>1 AV</td>\n",
       "      <td>2988931.0</td>\n",
       "    </tr>\n",
       "    <tr>\n",
       "      <th>4</th>\n",
       "      <td>103 ST-CORONA</td>\n",
       "      <td>2202566.0</td>\n",
       "    </tr>\n",
       "  </tbody>\n",
       "</table>\n",
       "</div>"
      ],
      "text/plain": [
       "         STATION  Delta_total\n",
       "2         103 ST    3286318.0\n",
       "0           1 AV    2988931.0\n",
       "4  103 ST-CORONA    2202566.0"
      ]
     },
     "execution_count": 31,
     "metadata": {},
     "output_type": "execute_result"
    }
   ],
   "source": [
    "tmp = tmp.groupby(['STATION', 'Day_of_week'], as_index=False).mean().head()\n",
    "\n",
    "# #Busiest Stations on Weekend\n",
    "mask = tmp.Weekend.values\n",
    "tmp.sort_values(['Delta_total'], ascending=False\n",
    "               ).drop_duplicates('STATION').ix[:,['STATION','Delta_total']].head(20)"
   ]
  },
  {
   "cell_type": "code",
   "execution_count": null,
   "metadata": {
    "collapsed": true
   },
   "outputs": [],
   "source": []
  },
  {
   "cell_type": "code",
   "execution_count": null,
   "metadata": {
    "collapsed": true
   },
   "outputs": [],
   "source": []
  }
 ],
 "metadata": {
  "kernelspec": {
   "display_name": "Python 3",
   "language": "python",
   "name": "python3"
  },
  "language_info": {
   "codemirror_mode": {
    "name": "ipython",
    "version": 3
   },
   "file_extension": ".py",
   "mimetype": "text/x-python",
   "name": "python",
   "nbconvert_exporter": "python",
   "pygments_lexer": "ipython3",
   "version": "3.5.1"
  }
 },
 "nbformat": 4,
 "nbformat_minor": 0
}
